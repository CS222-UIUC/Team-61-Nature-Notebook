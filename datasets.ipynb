{
 "cells": [
  {
   "cell_type": "code",
   "execution_count": 4,
   "metadata": {},
   "outputs": [
    {
     "name": "stderr",
     "output_type": "stream",
     "text": [
      "c:\\Users\\ishaa\\anaconda3\\envs\\pacbotsd3\\Lib\\site-packages\\deeplake\\util\\check_latest_version.py:32: UserWarning: A newer version of deeplake (4.1.11) is available. It's recommended that you update to the latest version using `pip install -U deeplake`.\n",
      "  warnings.warn(\n"
     ]
    },
    {
     "name": "stdout",
     "output_type": "stream",
     "text": [
      "Opening dataset in read-only mode as you don't have write permissions.\n"
     ]
    },
    {
     "name": "stderr",
     "output_type": "stream",
     "text": [
      "|"
     ]
    },
    {
     "name": "stdout",
     "output_type": "stream",
     "text": [
      "This dataset can be visualized in Jupyter Notebook by ds.visualize() or at https://app.activeloop.ai/activeloop/animal10n-train\n",
      "\n"
     ]
    },
    {
     "name": "stderr",
     "output_type": "stream",
     "text": [
      "|"
     ]
    },
    {
     "name": "stdout",
     "output_type": "stream",
     "text": [
      "hub://activeloop/animal10n-train loaded successfully.\n",
      "\n"
     ]
    },
    {
     "name": "stderr",
     "output_type": "stream",
     "text": [
      " c:\\Users\\ishaa\\anaconda3\\envs\\pacbotsd3\\Lib\\site-packages\\deeplake\\integrations\\pytorch\\common.py:138: UserWarning: Decode method for tensors ['images'] is defaulting to numpy. Please consider specifying a decode_method in .pytorch() that maximizes the data preprocessing speed based on your transformation.\n",
      "  warnings.warn(\n"
     ]
    }
   ],
   "source": [
    "# Dataset with tens of thousands of labelled animal images\n",
    "import deeplake as dl\n",
    "dataset = dl.load(\"hub://activeloop/animal10n-train\")\n",
    "\n",
    "# Prep dataset for pytorch\n",
    "dataloader = dataset.pytorch()"
   ]
  },
  {
   "cell_type": "code",
   "execution_count": null,
   "metadata": {},
   "outputs": [],
   "source": [
    "# Kaggle dataset with 30000 plant images. Running this cell will locally download the dataset\n",
    "import kagglehub\n",
    "\n",
    "path = kagglehub.dataset_download(\"yudhaislamisulistya/plants-type-datasets\")"
   ]
  },
  {
   "cell_type": "code",
   "execution_count": null,
   "metadata": {},
   "outputs": [],
   "source": [
    "# Another deeplake dataset with more plant images. Using augmented version here, without augmentation version also available\n",
    "import deeplake as dl\n",
    "dataset = dl.load('hub://activeloop/plantvillage-with-augmentation')\n",
    "\n",
    "# Prep dataset for pytorch\n",
    "dataloader = dataset.pytorch()"
   ]
  },
  {
   "cell_type": "code",
   "execution_count": null,
   "metadata": {},
   "outputs": [],
   "source": [
    "# A kaggle dataset for birds specifically. Running this will locally download the dataset\n",
    "import kagglehub\n",
    "\n",
    "path = kagglehub.dataset_download(\"klu2000030172/birds-image-dataset\")"
   ]
  }
 ],
 "metadata": {
  "kernelspec": {
   "display_name": "pacbotsd3",
   "language": "python",
   "name": "python3"
  },
  "language_info": {
   "codemirror_mode": {
    "name": "ipython",
    "version": 3
   },
   "file_extension": ".py",
   "mimetype": "text/x-python",
   "name": "python",
   "nbconvert_exporter": "python",
   "pygments_lexer": "ipython3",
   "version": "3.12.8"
  }
 },
 "nbformat": 4,
 "nbformat_minor": 2
}
