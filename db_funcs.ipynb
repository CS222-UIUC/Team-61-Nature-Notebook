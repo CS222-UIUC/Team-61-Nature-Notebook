{
 "cells": [
  {
   "cell_type": "code",
   "execution_count": 42,
   "id": "887612a5-83e4-4b35-b262-9cafdeede293",
   "metadata": {},
   "outputs": [],
   "source": [
    "# Imports\n",
    "import psycopg2\n",
    "import pandas as pd"
   ]
  },
  {
   "cell_type": "code",
   "execution_count": 43,
   "id": "173fb028",
   "metadata": {},
   "outputs": [],
   "source": [
    "# Returns user database\n",
    "def get_users(hostname = 'localhost', port = 5432, postgre_user = 'nihar'):\n",
    "    # Establish the connection\n",
    "    conn = psycopg2.connect(host=hostname, port=port, user=postgre_user, dbname='users')\n",
    "\n",
    "    # Query to select all users\n",
    "    query = \"SELECT * FROM users;\"\n",
    "\n",
    "    # Read query result directly into pandas DataFrame\n",
    "    df = pd.read_sql_query(query, conn)\n",
    "\n",
    "    # Close the connection and return\n",
    "    conn.close()\n",
    "    return df"
   ]
  },
  {
   "cell_type": "code",
   "execution_count": 44,
   "id": "1625c5ab",
   "metadata": {},
   "outputs": [],
   "source": [
    "def add_user(username, email, password_hash, hostname = 'localhost', port = 5432, postgre_user = 'nihar'):\n",
    "    # Establish the connection\n",
    "    conn = psycopg2.connect(host=hostname, port=port, user=postgre_user, dbname='users')\n",
    "\n",
    "    # SQL query to insert a new user\n",
    "    query = f\"INSERT INTO users (username, email, password_hash) VALUES ('{username}', '{email}', '{password_hash}');\"\n",
    "    \n",
    "    # Create cursor to execute query and commit changes\n",
    "    cursor = conn.cursor()\n",
    "    cursor.execute(query, (username, email)) # Assert user and email is unique\n",
    "    conn.commit()\n",
    "\n",
    "    # Close the cursor and connection\n",
    "    cursor.close()\n",
    "    conn.close()"
   ]
  },
  {
   "cell_type": "code",
   "execution_count": 45,
   "id": "5571ead5",
   "metadata": {},
   "outputs": [],
   "source": [
    "def remove_user(username, hostname = 'localhost', port = 5432, postgre_user = 'nihar'):\n",
    "    # Establish the connection\n",
    "    conn = psycopg2.connect(host=hostname, port=port, user=postgre_user, dbname='users')\n",
    "\n",
    "    # SQL query to delete a user based on the username\n",
    "    query = f\"DELETE FROM users WHERE username = '{username}';\"\n",
    "    \n",
    "    # Create cursor to execute query and commit changes\n",
    "    cursor = conn.cursor()\n",
    "    cursor.execute(query, (username)) # Assert user is unique\n",
    "    conn.commit()\n",
    "\n",
    "    # Close the cursor and connection\n",
    "    cursor.close()\n",
    "    conn.close()"
   ]
  },
  {
   "cell_type": "code",
   "execution_count": 46,
   "id": "5c44b945",
   "metadata": {},
   "outputs": [
    {
     "name": "stderr",
     "output_type": "stream",
     "text": [
      "/var/folders/r3/6v_h8z6936vbpxsh4znh6mbm0000gn/T/ipykernel_59778/1206838723.py:10: UserWarning: pandas only supports SQLAlchemy connectable (engine/connection) or database string URI or sqlite3 DBAPI2 connection. Other DBAPI2 objects are not tested. Please consider using SQLAlchemy.\n",
      "  df = pd.read_sql_query(query, conn)\n"
     ]
    },
    {
     "data": {
      "text/html": [
       "<div>\n",
       "<style scoped>\n",
       "    .dataframe tbody tr th:only-of-type {\n",
       "        vertical-align: middle;\n",
       "    }\n",
       "\n",
       "    .dataframe tbody tr th {\n",
       "        vertical-align: top;\n",
       "    }\n",
       "\n",
       "    .dataframe thead th {\n",
       "        text-align: right;\n",
       "    }\n",
       "</style>\n",
       "<table border=\"1\" class=\"dataframe\">\n",
       "  <thead>\n",
       "    <tr style=\"text-align: right;\">\n",
       "      <th></th>\n",
       "      <th>username</th>\n",
       "      <th>email</th>\n",
       "      <th>password_hash</th>\n",
       "    </tr>\n",
       "  </thead>\n",
       "  <tbody>\n",
       "    <tr>\n",
       "      <th>0</th>\n",
       "      <td>john_doe</td>\n",
       "      <td>john@example.com</td>\n",
       "      <td>hashed_password_123</td>\n",
       "    </tr>\n",
       "    <tr>\n",
       "      <th>1</th>\n",
       "      <td>jane_doe</td>\n",
       "      <td>jane@example.com</td>\n",
       "      <td>hashed_password_456</td>\n",
       "    </tr>\n",
       "  </tbody>\n",
       "</table>\n",
       "</div>"
      ],
      "text/plain": [
       "   username             email        password_hash\n",
       "0  john_doe  john@example.com  hashed_password_123\n",
       "1  jane_doe  jane@example.com  hashed_password_456"
      ]
     },
     "execution_count": 46,
     "metadata": {},
     "output_type": "execute_result"
    }
   ],
   "source": [
    "# Get DB example\n",
    "df = get_users()\n",
    "df"
   ]
  },
  {
   "cell_type": "code",
   "execution_count": 47,
   "id": "5a3556d7",
   "metadata": {},
   "outputs": [
    {
     "name": "stderr",
     "output_type": "stream",
     "text": [
      "/var/folders/r3/6v_h8z6936vbpxsh4znh6mbm0000gn/T/ipykernel_59778/1206838723.py:10: UserWarning: pandas only supports SQLAlchemy connectable (engine/connection) or database string URI or sqlite3 DBAPI2 connection. Other DBAPI2 objects are not tested. Please consider using SQLAlchemy.\n",
      "  df = pd.read_sql_query(query, conn)\n"
     ]
    },
    {
     "data": {
      "text/html": [
       "<div>\n",
       "<style scoped>\n",
       "    .dataframe tbody tr th:only-of-type {\n",
       "        vertical-align: middle;\n",
       "    }\n",
       "\n",
       "    .dataframe tbody tr th {\n",
       "        vertical-align: top;\n",
       "    }\n",
       "\n",
       "    .dataframe thead th {\n",
       "        text-align: right;\n",
       "    }\n",
       "</style>\n",
       "<table border=\"1\" class=\"dataframe\">\n",
       "  <thead>\n",
       "    <tr style=\"text-align: right;\">\n",
       "      <th></th>\n",
       "      <th>username</th>\n",
       "      <th>email</th>\n",
       "      <th>password_hash</th>\n",
       "    </tr>\n",
       "  </thead>\n",
       "  <tbody>\n",
       "    <tr>\n",
       "      <th>0</th>\n",
       "      <td>john_doe</td>\n",
       "      <td>john@example.com</td>\n",
       "      <td>hashed_password_123</td>\n",
       "    </tr>\n",
       "    <tr>\n",
       "      <th>1</th>\n",
       "      <td>jane_doe</td>\n",
       "      <td>jane@example.com</td>\n",
       "      <td>hashed_password_456</td>\n",
       "    </tr>\n",
       "    <tr>\n",
       "      <th>2</th>\n",
       "      <td>chungus</td>\n",
       "      <td>bingus@yahoo.co.in</td>\n",
       "      <td>hashed_password_222</td>\n",
       "    </tr>\n",
       "  </tbody>\n",
       "</table>\n",
       "</div>"
      ],
      "text/plain": [
       "   username               email        password_hash\n",
       "0  john_doe    john@example.com  hashed_password_123\n",
       "1  jane_doe    jane@example.com  hashed_password_456\n",
       "2   chungus  bingus@yahoo.co.in  hashed_password_222"
      ]
     },
     "execution_count": 47,
     "metadata": {},
     "output_type": "execute_result"
    }
   ],
   "source": [
    "# Add user example\n",
    "remove_user(\"chungus\") # Ensure doesn't exist since we're asserting users are unique\n",
    "add_user(\"chungus\", \"bingus@yahoo.co.in\", \"hashed_password_222\")\n",
    "df = get_users()\n",
    "df"
   ]
  },
  {
   "cell_type": "code",
   "execution_count": 48,
   "id": "594b2c64",
   "metadata": {},
   "outputs": [
    {
     "name": "stderr",
     "output_type": "stream",
     "text": [
      "/var/folders/r3/6v_h8z6936vbpxsh4znh6mbm0000gn/T/ipykernel_59778/1206838723.py:10: UserWarning: pandas only supports SQLAlchemy connectable (engine/connection) or database string URI or sqlite3 DBAPI2 connection. Other DBAPI2 objects are not tested. Please consider using SQLAlchemy.\n",
      "  df = pd.read_sql_query(query, conn)\n"
     ]
    },
    {
     "data": {
      "text/html": [
       "<div>\n",
       "<style scoped>\n",
       "    .dataframe tbody tr th:only-of-type {\n",
       "        vertical-align: middle;\n",
       "    }\n",
       "\n",
       "    .dataframe tbody tr th {\n",
       "        vertical-align: top;\n",
       "    }\n",
       "\n",
       "    .dataframe thead th {\n",
       "        text-align: right;\n",
       "    }\n",
       "</style>\n",
       "<table border=\"1\" class=\"dataframe\">\n",
       "  <thead>\n",
       "    <tr style=\"text-align: right;\">\n",
       "      <th></th>\n",
       "      <th>username</th>\n",
       "      <th>email</th>\n",
       "      <th>password_hash</th>\n",
       "    </tr>\n",
       "  </thead>\n",
       "  <tbody>\n",
       "    <tr>\n",
       "      <th>0</th>\n",
       "      <td>john_doe</td>\n",
       "      <td>john@example.com</td>\n",
       "      <td>hashed_password_123</td>\n",
       "    </tr>\n",
       "    <tr>\n",
       "      <th>1</th>\n",
       "      <td>jane_doe</td>\n",
       "      <td>jane@example.com</td>\n",
       "      <td>hashed_password_456</td>\n",
       "    </tr>\n",
       "  </tbody>\n",
       "</table>\n",
       "</div>"
      ],
      "text/plain": [
       "   username             email        password_hash\n",
       "0  john_doe  john@example.com  hashed_password_123\n",
       "1  jane_doe  jane@example.com  hashed_password_456"
      ]
     },
     "execution_count": 48,
     "metadata": {},
     "output_type": "execute_result"
    }
   ],
   "source": [
    "# Remove user example\n",
    "remove_user(\"chungus\")\n",
    "df = get_users()\n",
    "df"
   ]
  }
 ],
 "metadata": {
  "kernelspec": {
   "display_name": "Python 3",
   "language": "python",
   "name": "python3"
  },
  "language_info": {
   "codemirror_mode": {
    "name": "ipython",
    "version": 3
   },
   "file_extension": ".py",
   "mimetype": "text/x-python",
   "name": "python",
   "nbconvert_exporter": "python",
   "pygments_lexer": "ipython3",
   "version": "3.9.6"
  }
 },
 "nbformat": 4,
 "nbformat_minor": 5
}
