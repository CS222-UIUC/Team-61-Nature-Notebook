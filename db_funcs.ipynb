{
 "cells": [
  {
   "cell_type": "code",
   "execution_count": 9,
   "id": "887612a5-83e4-4b35-b262-9cafdeede293",
   "metadata": {},
   "outputs": [],
   "source": [
    "# Imports\n",
    "import pandas as pd\n",
    "from sqlalchemy import create_engine, text\n",
    "\n",
    "import bcrypt"
   ]
  },
  {
   "cell_type": "code",
   "execution_count": 10,
   "id": "9a48cddc",
   "metadata": {},
   "outputs": [],
   "source": [
    "# Create a sqlalchemy engine to input database\n",
    "def get_engine(dbname, host='localhost', port=5432, user='nihar'):\n",
    "    connection_string = f'postgresql://{user}@{host}:{port}/{dbname}'\n",
    "    engine = create_engine(connection_string)\n",
    "    return engine"
   ]
  },
  {
   "cell_type": "code",
   "execution_count": 11,
   "id": "d440e6b2",
   "metadata": {},
   "outputs": [],
   "source": [
    "# The function that runs any query; returns results for SELECT queries and commits changes for non-SELECT queries\n",
    "def execute_query(dbname, query):\n",
    "    # Establish the connection\n",
    "    engine = get_engine(dbname)\n",
    "    \n",
    "    # Create transaction\n",
    "    with engine.connect() as connection:\n",
    "        transaction = connection.begin() \n",
    "        try:\n",
    "            # If SELECT query, fetch and return the results\n",
    "            if query.strip().lower().startswith('select'):\n",
    "                result = connection.execute(text(query))\n",
    "                return result.fetchall()\n",
    "            \n",
    "            # Execute non-SELECT queries\n",
    "            else:\n",
    "                connection.execute(text(query))\n",
    "                # Commit the changes and return None\n",
    "                transaction.commit()\n",
    "                return None \n",
    "        except Exception as e: # Re-raise the exception\n",
    "            transaction.rollback()  \n",
    "            raise e "
   ]
  },
  {
   "cell_type": "code",
   "execution_count": 12,
   "id": "f93b953a",
   "metadata": {},
   "outputs": [],
   "source": [
    "def get_hashed_password(password_text):\n",
    "    # First time hashing password using bcrypt; the salt is saved into the hash itself; slow hash to prevent malicious brute force attacks\n",
    "    password_bytes = password_text.encode('utf-8')\n",
    "    return bcrypt.hashpw(password_bytes, bcrypt.gensalt(14))\n",
    "\n",
    "def check_password(password_text, password_hash):\n",
    "    # Check hashed password\n",
    "    password_bytes = password_text.encode('utf-8')\n",
    "    return bcrypt.checkpw(password_bytes, password_hash)\n"
   ]
  },
  {
   "cell_type": "code",
   "execution_count": 13,
   "id": "0f9f8af1",
   "metadata": {},
   "outputs": [],
   "source": [
    "# Returns user database\n",
    "def get_users():\n",
    "    # Query to select all users\n",
    "    query = \"SELECT * FROM users;\"\n",
    "    df = pd.DataFrame(execute_query('users', query))\n",
    "    return df"
   ]
  },
  {
   "cell_type": "code",
   "execution_count": 14,
   "id": "4256a8a0",
   "metadata": {},
   "outputs": [],
   "source": [
    "def get_id(username):\n",
    "    # SQL query to get id of user\n",
    "    query = f\"SELECT id FROM users WHERE username = '{username}';\"\n",
    "    id = execute_query('users', query)\n",
    "    if len(id) == 0: return None  # Username not found in database\n",
    "    return id[0][0] # Extract data and return"
   ]
  },
  {
   "cell_type": "code",
   "execution_count": 15,
   "id": "1625c5ab",
   "metadata": {},
   "outputs": [],
   "source": [
    "# Functions to add and remove users\n",
    "\n",
    "def add_user(username, email, password, hostname = 'localhost', port = 5432, postgre_user = 'nihar'):\n",
    "    # SQL query to insert a new user\n",
    "    password_hash = get_hashed_password(password).decode('utf-8')\n",
    "    query = \"INSERT INTO users (username, email, password_hash) VALUES ('%s', '%s', '%s');\" % (username, email, password_hash)\n",
    "    execute_query('users', query)\n",
    "\n",
    "def remove_user(username, hostname = 'localhost', port = 5432, postgre_user = 'nihar'):\n",
    "    # SQL query to delete a user based on the username\n",
    "    id = get_id(username)\n",
    "    if id == None: return\n",
    "    query = f\"DELETE FROM users WHERE id = '{id}';\"\n",
    "    execute_query('users', query)"
   ]
  },
  {
   "cell_type": "code",
   "execution_count": 16,
   "id": "52e94699",
   "metadata": {},
   "outputs": [],
   "source": [
    "# Function to validate password of an user \n",
    "\n",
    "def validate_password(username, pass_check, hostname = 'localhost', port = 5432, postgre_user = 'nihar'):\n",
    "    # SQL query to delete a user based on the username\n",
    "    id = get_id(username)\n",
    "    if id == None: return\n",
    "    query = f\"SELECT password_hash FROM users WHERE id = '{id}';\"\n",
    "    \n",
    "    password_hash = execute_query('users', query)[0][0]\n",
    "    # print(password_hash.tobytes())\n",
    "    # return check_password(pass_check, password_hash)"
   ]
  },
  {
   "cell_type": "code",
   "execution_count": 17,
   "id": "06f6e69f",
   "metadata": {},
   "outputs": [],
   "source": [
    "# print(validate_password(\"jethalal\", \"hello\"))"
   ]
  },
  {
   "cell_type": "code",
   "execution_count": 18,
   "id": "678cb41f",
   "metadata": {},
   "outputs": [],
   "source": [
    "# Update observation helper function\n",
    "def update_info(id, updated_info, category): \n",
    "    if id == None: return # If not a valid user, terminate\n",
    "    query = f\"UPDATE users SET {category} = '{updated_info}' WHERE id = {id};\" # SQL query to update a user's info based on id\n",
    "    execute_query('users', query)\n",
    "\n",
    "# Update observation's data functions\n",
    "def update_username(id, new_username):\n",
    "    update_info(id, new_username, 'username')\n",
    "\n",
    "def update_email(id, new_email):\n",
    "    update_info(id, new_email, 'email')\n",
    "\n",
    "def update_password(id, new_pass):\n",
    "    new_hash = get_hashed_password(new_pass).decode('utf-8')\n",
    "    update_info(id, new_hash, 'password_hash')"
   ]
  },
  {
   "cell_type": "code",
   "execution_count": 19,
   "id": "44875904",
   "metadata": {},
   "outputs": [
    {
     "name": "stdout",
     "output_type": "stream",
     "text": [
      "115559616851683\n"
     ]
    }
   ],
   "source": [
    "# Get ID example\n",
    "print(get_id(\"jethalal\"))"
   ]
  },
  {
   "cell_type": "code",
   "execution_count": 20,
   "id": "18f29428",
   "metadata": {},
   "outputs": [
    {
     "name": "stdout",
     "output_type": "stream",
     "text": [
      "b'$2b$14$XDrr6g/KObKdcWaKaFkQJeeiEhpR5ws6TGXBUfFU8qJLegP4ZTREy'\n",
      "True\n",
      "False\n"
     ]
    }
   ],
   "source": [
    "# Password hashing and checking example\n",
    "password_hash = get_hashed_password(\"cheese\")\n",
    "print(password_hash)\n",
    "\n",
    "print(check_password(\"cheese\", password_hash))\n",
    "print(check_password(\"burger\", password_hash))"
   ]
  },
  {
   "cell_type": "code",
   "execution_count": 21,
   "id": "5c44b945",
   "metadata": {},
   "outputs": [
    {
     "data": {
      "text/html": [
       "<div>\n",
       "<style scoped>\n",
       "    .dataframe tbody tr th:only-of-type {\n",
       "        vertical-align: middle;\n",
       "    }\n",
       "\n",
       "    .dataframe tbody tr th {\n",
       "        vertical-align: top;\n",
       "    }\n",
       "\n",
       "    .dataframe thead th {\n",
       "        text-align: right;\n",
       "    }\n",
       "</style>\n",
       "<table border=\"1\" class=\"dataframe\">\n",
       "  <thead>\n",
       "    <tr style=\"text-align: right;\">\n",
       "      <th></th>\n",
       "      <th>id</th>\n",
       "      <th>username</th>\n",
       "      <th>email</th>\n",
       "      <th>password_hash</th>\n",
       "    </tr>\n",
       "  </thead>\n",
       "  <tbody>\n",
       "    <tr>\n",
       "      <th>0</th>\n",
       "      <td>115559616851683</td>\n",
       "      <td>jethalal</td>\n",
       "      <td>sethji@shaadi.com</td>\n",
       "      <td>[b'$', b'2', b'b', b'$', b'1', b'4', b'$', b'M...</td>\n",
       "    </tr>\n",
       "  </tbody>\n",
       "</table>\n",
       "</div>"
      ],
      "text/plain": [
       "                id  username              email  \\\n",
       "0  115559616851683  jethalal  sethji@shaadi.com   \n",
       "\n",
       "                                       password_hash  \n",
       "0  [b'$', b'2', b'b', b'$', b'1', b'4', b'$', b'M...  "
      ]
     },
     "execution_count": 21,
     "metadata": {},
     "output_type": "execute_result"
    }
   ],
   "source": [
    "# Get DB example\n",
    "get_users()"
   ]
  },
  {
   "cell_type": "code",
   "execution_count": 22,
   "id": "5a3556d7",
   "metadata": {},
   "outputs": [
    {
     "data": {
      "text/html": [
       "<div>\n",
       "<style scoped>\n",
       "    .dataframe tbody tr th:only-of-type {\n",
       "        vertical-align: middle;\n",
       "    }\n",
       "\n",
       "    .dataframe tbody tr th {\n",
       "        vertical-align: top;\n",
       "    }\n",
       "\n",
       "    .dataframe thead th {\n",
       "        text-align: right;\n",
       "    }\n",
       "</style>\n",
       "<table border=\"1\" class=\"dataframe\">\n",
       "  <thead>\n",
       "    <tr style=\"text-align: right;\">\n",
       "      <th></th>\n",
       "      <th>id</th>\n",
       "      <th>username</th>\n",
       "      <th>email</th>\n",
       "      <th>password_hash</th>\n",
       "    </tr>\n",
       "  </thead>\n",
       "  <tbody>\n",
       "    <tr>\n",
       "      <th>0</th>\n",
       "      <td>115559616851683</td>\n",
       "      <td>jethalal</td>\n",
       "      <td>sethji@shaadi.com</td>\n",
       "      <td>[b'$', b'2', b'b', b'$', b'1', b'4', b'$', b'M...</td>\n",
       "    </tr>\n",
       "    <tr>\n",
       "      <th>1</th>\n",
       "      <td>846457368193647</td>\n",
       "      <td>chungus</td>\n",
       "      <td>bingus@yahoo.co.in</td>\n",
       "      <td>[b'$', b'2', b'b', b'$', b'1', b'4', b'$', b'L...</td>\n",
       "    </tr>\n",
       "  </tbody>\n",
       "</table>\n",
       "</div>"
      ],
      "text/plain": [
       "                id  username               email  \\\n",
       "0  115559616851683  jethalal   sethji@shaadi.com   \n",
       "1  846457368193647   chungus  bingus@yahoo.co.in   \n",
       "\n",
       "                                       password_hash  \n",
       "0  [b'$', b'2', b'b', b'$', b'1', b'4', b'$', b'M...  \n",
       "1  [b'$', b'2', b'b', b'$', b'1', b'4', b'$', b'L...  "
      ]
     },
     "execution_count": 22,
     "metadata": {},
     "output_type": "execute_result"
    }
   ],
   "source": [
    "# Add user example\n",
    "remove_user(\"chungus\") # Ensure doesn't exist since we're asserting users are unique\n",
    "add_user(\"chungus\", \"bingus@yahoo.co.in\", \"evillarry\")\n",
    "get_users()"
   ]
  },
  {
   "cell_type": "code",
   "execution_count": 23,
   "id": "594b2c64",
   "metadata": {},
   "outputs": [
    {
     "data": {
      "text/html": [
       "<div>\n",
       "<style scoped>\n",
       "    .dataframe tbody tr th:only-of-type {\n",
       "        vertical-align: middle;\n",
       "    }\n",
       "\n",
       "    .dataframe tbody tr th {\n",
       "        vertical-align: top;\n",
       "    }\n",
       "\n",
       "    .dataframe thead th {\n",
       "        text-align: right;\n",
       "    }\n",
       "</style>\n",
       "<table border=\"1\" class=\"dataframe\">\n",
       "  <thead>\n",
       "    <tr style=\"text-align: right;\">\n",
       "      <th></th>\n",
       "      <th>id</th>\n",
       "      <th>username</th>\n",
       "      <th>email</th>\n",
       "      <th>password_hash</th>\n",
       "    </tr>\n",
       "  </thead>\n",
       "  <tbody>\n",
       "    <tr>\n",
       "      <th>0</th>\n",
       "      <td>115559616851683</td>\n",
       "      <td>jethalal</td>\n",
       "      <td>sethji@shaadi.com</td>\n",
       "      <td>[b'$', b'2', b'b', b'$', b'1', b'4', b'$', b'M...</td>\n",
       "    </tr>\n",
       "  </tbody>\n",
       "</table>\n",
       "</div>"
      ],
      "text/plain": [
       "                id  username              email  \\\n",
       "0  115559616851683  jethalal  sethji@shaadi.com   \n",
       "\n",
       "                                       password_hash  \n",
       "0  [b'$', b'2', b'b', b'$', b'1', b'4', b'$', b'M...  "
      ]
     },
     "execution_count": 23,
     "metadata": {},
     "output_type": "execute_result"
    }
   ],
   "source": [
    "# Remove user example\n",
    "remove_user(\"chungus\")\n",
    "df = get_users()\n",
    "df"
   ]
  },
  {
   "cell_type": "code",
   "execution_count": 24,
   "id": "e7d2b72b",
   "metadata": {},
   "outputs": [
    {
     "data": {
      "text/html": [
       "<div>\n",
       "<style scoped>\n",
       "    .dataframe tbody tr th:only-of-type {\n",
       "        vertical-align: middle;\n",
       "    }\n",
       "\n",
       "    .dataframe tbody tr th {\n",
       "        vertical-align: top;\n",
       "    }\n",
       "\n",
       "    .dataframe thead th {\n",
       "        text-align: right;\n",
       "    }\n",
       "</style>\n",
       "<table border=\"1\" class=\"dataframe\">\n",
       "  <thead>\n",
       "    <tr style=\"text-align: right;\">\n",
       "      <th></th>\n",
       "      <th>id</th>\n",
       "      <th>username</th>\n",
       "      <th>email</th>\n",
       "      <th>password_hash</th>\n",
       "    </tr>\n",
       "  </thead>\n",
       "  <tbody>\n",
       "    <tr>\n",
       "      <th>0</th>\n",
       "      <td>115559616851683</td>\n",
       "      <td>tapu ke papa</td>\n",
       "      <td>jijaji@sundar.con</td>\n",
       "      <td>[b'$', b'2', b'b', b'$', b'1', b'4', b'$', b'5...</td>\n",
       "    </tr>\n",
       "  </tbody>\n",
       "</table>\n",
       "</div>"
      ],
      "text/plain": [
       "                id      username              email  \\\n",
       "0  115559616851683  tapu ke papa  jijaji@sundar.con   \n",
       "\n",
       "                                       password_hash  \n",
       "0  [b'$', b'2', b'b', b'$', b'1', b'4', b'$', b'5...  "
      ]
     },
     "execution_count": 24,
     "metadata": {},
     "output_type": "execute_result"
    }
   ],
   "source": [
    "# Update User data example\n",
    "update_username(get_id(\"jethalal\"), \"tapu ke papa\")\n",
    "update_email(get_id(\"tapu ke papa\"), \"jijaji@sundar.con\")\n",
    "update_password(get_id(\"tapu ke papa\"), \"JalebiMaster\")\n",
    "df = get_users()\n",
    "\n",
    "# Undo changes\n",
    "update_username(get_id(\"tapu ke papa\"), \"jethalal\")\n",
    "update_email(get_id(\"jethalal\"), \"sethji@shaadi.com\")\n",
    "update_password(get_id(\"jethalal\"), \"natukaka123\")\n",
    "\n",
    "df"
   ]
  },
  {
   "cell_type": "code",
   "execution_count": null,
   "id": "35a5a048",
   "metadata": {},
   "outputs": [],
   "source": [
    "CREATE TABLE birds (\n",
    "    id SERIAL PRIMARY KEY,\n",
    "    name TEXT NOT NULL,\n",
    "    species TEXT,\n",
    "    description TEXT\n",
    ");\n",
    "\n",
    "CREATE TABLE users_birds (\n",
    "    user_id INTEGER REFERENCES users(id) ON DELETE CASCADE,\n",
    "    bird_id INTEGER REFERENCES birds(id) ON DELETE CASCADE,\n",
    "    PRIMARY KEY (user_id, bird_id)\n",
    ");\n",
    "\n",
    "def add_bird(name, species=None, description=None):\n",
    "    query = f\"\"\"\n",
    "    INSERT INTO birds (name, species, description)\n",
    "    VALUES ('{name}', '{species or ''}', '{description or ''}');\n",
    "    \"\"\"\n",
    "    execute_query('users', query)\n",
    "\n",
    "def link_user(username, bird_name):\n",
    "    user_id = get_id(username)\n",
    "    if user_id is None: return\n",
    "\n",
    "    query = f\"SELECT id FROM birds WHERE name = '{bird_name}';\"\n",
    "    result = execute_query('users', query)\n",
    "    if not result: return\n",
    "    bird_id = result[0][0]\n",
    "\n",
    "    link_query = f\"INSERT INTO users_birds (user_id, bird_id) VALUES ({user_id}, {bird_id}) ON CONFLICT DO NOTHING;\"\n",
    "    execute_query('users', link_query)\n",
    "\n",
    "def get_users_birds(username):\n",
    "    user_id = get_id(username)\n",
    "    if user_id is None: return []\n",
    "    query = f\"\"\"\n",
    "    SELECT b.name, b.species, b.description\n",
    "    FROM birds b\n",
    "    JOIN users_birds ub ON b.id = ub.bird_id\n",
    "    WHERE ub.user_id = {user_id};\n",
    "    \"\"\"\n",
    "    return pd.DataFrame(execute_query('users', query))\n",
    "\n",
    "def unlink_bird(username, bird_name):\n",
    "    user_id = get_id(username)\n",
    "    if user_id is None: return\n",
    "\n",
    "    query = f\"SELECT id FROM birds WHERE name = '{bird_name}';\"\n",
    "    result = execute_query('users', query)\n",
    "    if not result: return\n",
    "    bird_id = result[0][0]\n",
    "\n",
    "    delete_query = f\"DELETE FROM user_birds WHERE user_id = {user_id} AND bird_id = {bird_id};\"\n",
    "    execute_query('users', delete_query)"
   ]
  },
  {
   "cell_type": "code",
   "execution_count": null,
   "id": "fea9ed3b",
   "metadata": {},
   "outputs": [],
   "source": []
  }
 ],
 "metadata": {
  "kernelspec": {
   "display_name": "Python 3",
   "language": "python",
   "name": "python3"
  },
  "language_info": {
   "codemirror_mode": {
    "name": "ipython",
    "version": 3
   },
   "file_extension": ".py",
   "mimetype": "text/x-python",
   "name": "python",
   "nbconvert_exporter": "python",
   "pygments_lexer": "ipython3",
   "version": "3.9.6"
  }
 },
 "nbformat": 4,
 "nbformat_minor": 5
}
