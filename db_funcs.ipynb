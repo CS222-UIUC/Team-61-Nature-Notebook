{
 "cells": [
  {
   "cell_type": "code",
   "execution_count": 26,
   "id": "887612a5-83e4-4b35-b262-9cafdeede293",
   "metadata": {},
   "outputs": [],
   "source": [
    "# Imports\n",
    "import pandas as pd\n",
    "import sqlite3\n",
    "from datetime import datetime\n",
    "from sqlalchemy import create_engine, text\n",
    "\n",
    "import bcrypt"
   ]
  },
  {
   "cell_type": "code",
   "execution_count": null,
   "id": "e9f3c831",
   "metadata": {},
   "outputs": [],
   "source": [
    "class User:\n",
    "    def __init__(self, user_id: int, username: str, email: str):\n",
    "        self.user_id = user_id\n",
    "        self.username = username\n",
    "        self.email = email\n",
    "        self.settings =  self.init_setting_map() # Dict for settings\n",
    "        self.permissions = set()  # Set of granted permissions\n",
    "\n",
    "    def init_setting_map(self):\n",
    "        dict = {}\n",
    "        dict[\"light_mode\"] = True\n",
    "        dict[\"user_active\"] = True\n",
    "        # TO DO: add more settings\n",
    "        return dict\n",
    "\n",
    "    def update_setting(self, key: str, value):\n",
    "        self.settings[key] = value\n",
    "\n",
    "    def get_setting(self, key: str):\n",
    "        return self.settings.get(key, None)\n",
    "\n",
    "    def add_permission(self, permission: str):\n",
    "        self.permissions.add(permission)\n",
    "\n",
    "    def remove_permission(self, permission: str):\n",
    "        self.permissions.discard(permission)\n",
    "\n",
    "    def check_permission(self, permission: str) -> bool:\n",
    "        return permission in self.permissions\n",
    "\n",
    "    def __repr__(self):\n",
    "        return (f\"User(id={self.user_id}, username='{self.username}')\")\n"
   ]
  },
  {
   "cell_type": "code",
   "execution_count": 28,
   "id": "9a48cddc",
   "metadata": {},
   "outputs": [],
   "source": [
    "# Create a sqlalchemy engine to input database\n",
    "def get_engine(dbname, host='localhost', port=5432, user='nihar'):\n",
    "    connection_string = f'postgresql://{user}@{host}:{port}/{dbname}'\n",
    "    engine = create_engine(connection_string)\n",
    "    return engine"
   ]
  },
  {
   "cell_type": "code",
   "execution_count": 29,
   "id": "d440e6b2",
   "metadata": {},
   "outputs": [],
   "source": [
    "# The function that runs any query; returns results for SELECT queries and commits changes for non-SELECT queries\n",
    "def execute_query(dbname, query):\n",
    "    # Establish the connection\n",
    "    engine = get_engine(dbname)\n",
    "    \n",
    "    # Create transaction\n",
    "    with engine.connect() as connection:\n",
    "        transaction = connection.begin() \n",
    "        try:\n",
    "            # If SELECT query, fetch and return the results\n",
    "            if query.strip().lower().startswith('select'):\n",
    "                result = connection.execute(text(query))\n",
    "                return result.fetchall()\n",
    "            \n",
    "            # Execute non-SELECT queries\n",
    "            else:\n",
    "                connection.execute(text(query))\n",
    "                # Commit the changes and return None\n",
    "                transaction.commit()\n",
    "                return None \n",
    "        except Exception as e: # Re-raise the exception\n",
    "            transaction.rollback()  \n",
    "            raise e "
   ]
  },
  {
   "cell_type": "code",
   "execution_count": 30,
   "id": "f93b953a",
   "metadata": {},
   "outputs": [],
   "source": [
    "def get_hashed_password(password_text):\n",
    "    # First time hashing password using bcrypt; the salt is saved into the hash itself; slow hash to prevent malicious brute force attacks\n",
    "    password_bytes = password_text.encode('utf-8')\n",
    "    return bcrypt.hashpw(password_bytes, bcrypt.gensalt(14))\n",
    "\n",
    "def check_password(password_text, password_hash):\n",
    "    # Check hashed password\n",
    "    password_bytes = password_text.encode('utf-8')\n",
    "    return bcrypt.checkpw(password_bytes, password_hash)\n"
   ]
  },
  {
   "cell_type": "code",
   "execution_count": 31,
   "id": "0f9f8af1",
   "metadata": {},
   "outputs": [],
   "source": [
    "# Returns user database\n",
    "def get_users():\n",
    "    # Query to select all users\n",
    "    query = \"SELECT * FROM users;\"\n",
    "    df = pd.DataFrame(execute_query('users', query))\n",
    "    return df"
   ]
  },
  {
   "cell_type": "code",
   "execution_count": 32,
   "id": "4256a8a0",
   "metadata": {},
   "outputs": [],
   "source": [
    "def get_id(username):\n",
    "    # SQL query to get id of user\n",
    "    query = f\"SELECT id FROM users WHERE username = '{username}';\"\n",
    "    id = execute_query('users', query)\n",
    "    if len(id) == 0: return None  # Username not found in database\n",
    "    return id[0][0] # Extract data and return"
   ]
  },
  {
   "cell_type": "code",
   "execution_count": 33,
   "id": "b0d91df8",
   "metadata": {},
   "outputs": [],
   "source": [
    "def get_info(id, what):\n",
    "    query = f\"SELECT {what} FROM users WHERE id = '{id}';\"\n",
    "    id = execute_query('users', query)\n",
    "    if len(id) == 0: return None  # Username not found in database\n",
    "    return id[0][0] # Extract data and return\n",
    "\n",
    "# Specific getters\n",
    "def get_username(id):\n",
    "    return get_info(id, what = 'username')\n",
    "\n",
    "\n",
    "def get_email(username):\n",
    "    return get_info(get_id(username), what = 'email')\n"
   ]
  },
  {
   "cell_type": "code",
   "execution_count": 34,
   "id": "1625c5ab",
   "metadata": {},
   "outputs": [],
   "source": [
    "# Functions to add and remove users\n",
    "\n",
    "def add_user(username, email, password, hostname = 'localhost', port = 5432, postgre_user = 'nihar'):\n",
    "    # SQL query to insert a new user\n",
    "    password_hash = get_hashed_password(password).decode('utf-8')\n",
    "    query = \"INSERT INTO users (username, email, password_hash) VALUES ('%s', '%s', '%s');\" % (username, email, password_hash)\n",
    "    execute_query('users', query)\n",
    "\n",
    "def remove_user(username, hostname = 'localhost', port = 5432, postgre_user = 'nihar'):\n",
    "    # SQL query to delete a user based on the username\n",
    "    id = get_id(username)\n",
    "    if id == None: return\n",
    "    query = f\"DELETE FROM users WHERE id = '{id}';\"\n",
    "    execute_query('users', query)"
   ]
  },
  {
   "cell_type": "code",
   "execution_count": 35,
   "id": "52e94699",
   "metadata": {},
   "outputs": [],
   "source": [
    "# Function to validate password of an user \n",
    "\n",
    "def validate_password(username, pass_check, hostname = 'localhost', port = 5432, postgre_user = 'nihar'):\n",
    "    # SQL query to delete a user based on the username\n",
    "    id = get_id(username)\n",
    "    if id == None: return\n",
    "    query = f\"SELECT password_hash FROM users WHERE id = '{id}';\"\n",
    "    password_hash = execute_query('users', query)[0][0]\n",
    "    print(password_hash.tobytes())\n",
    "    return check_password(pass_check, password_hash)"
   ]
  },
  {
   "cell_type": "code",
   "execution_count": 36,
   "id": "06f6e69f",
   "metadata": {},
   "outputs": [
    {
     "name": "stdout",
     "output_type": "stream",
     "text": [
      "jethalal\n",
      "sethji@shaadi.com\n"
     ]
    }
   ],
   "source": [
    "# Getters example\n",
    "\n",
    "print(get_username(289772903861802))\n",
    "print(get_email('jethalal'))\n"
   ]
  },
  {
   "cell_type": "code",
   "execution_count": 37,
   "id": "678cb41f",
   "metadata": {},
   "outputs": [],
   "source": [
    "# Update observation helper function\n",
    "def update_info(id, updated_info, category): \n",
    "    if id == None: return # If not a valid user, terminate\n",
    "    query = f\"UPDATE users SET {category} = '{updated_info}' WHERE id = {id};\" # SQL query to update a user's info based on id\n",
    "    execute_query('users', query)\n",
    "\n",
    "# Update observation's data functions\n",
    "def update_username(id, new_username):\n",
    "    update_info(id, new_username, 'username')\n",
    "\n",
    "def update_email(id, new_email):\n",
    "    update_info(id, new_email, 'email')\n",
    "\n",
    "def update_password(id, new_pass):\n",
    "    new_hash = get_hashed_password(new_pass).decode('utf-8')\n",
    "    update_info(id, new_hash, 'password_hash')\n",
    "\n"
   ]
  },
  {
   "cell_type": "code",
   "execution_count": 38,
   "id": "44875904",
   "metadata": {},
   "outputs": [
    {
     "name": "stdout",
     "output_type": "stream",
     "text": [
      "289772903861802\n"
     ]
    }
   ],
   "source": [
    "# Get ID example\n",
    "print(get_id(\"jethalal\"))\n"
   ]
  },
  {
   "cell_type": "code",
   "execution_count": 39,
   "id": "18f29428",
   "metadata": {},
   "outputs": [
    {
     "name": "stdout",
     "output_type": "stream",
     "text": [
      "b'$2b$14$aKZKQXSlqeMxZJgn3/zS6.OPdKbLd6ivNLQXxykO9jlf5SdP907zm'\n",
      "True\n",
      "False\n"
     ]
    }
   ],
   "source": [
    "# Password hashing and checking example\n",
    "password_hash = get_hashed_password(\"cheese\")\n",
    "print(password_hash)\n",
    "\n",
    "print(check_password(\"cheese\", password_hash))\n",
    "print(check_password(\"burger\", password_hash))"
   ]
  },
  {
   "cell_type": "code",
   "execution_count": 40,
   "id": "5c44b945",
   "metadata": {},
   "outputs": [
    {
     "data": {
      "text/html": [
       "<div>\n",
       "<style scoped>\n",
       "    .dataframe tbody tr th:only-of-type {\n",
       "        vertical-align: middle;\n",
       "    }\n",
       "\n",
       "    .dataframe tbody tr th {\n",
       "        vertical-align: top;\n",
       "    }\n",
       "\n",
       "    .dataframe thead th {\n",
       "        text-align: right;\n",
       "    }\n",
       "</style>\n",
       "<table border=\"1\" class=\"dataframe\">\n",
       "  <thead>\n",
       "    <tr style=\"text-align: right;\">\n",
       "      <th></th>\n",
       "      <th>id</th>\n",
       "      <th>username</th>\n",
       "      <th>email</th>\n",
       "      <th>password_hash</th>\n",
       "    </tr>\n",
       "  </thead>\n",
       "  <tbody>\n",
       "    <tr>\n",
       "      <th>0</th>\n",
       "      <td>289772903861802</td>\n",
       "      <td>jethalal</td>\n",
       "      <td>sethji@shaadi.com</td>\n",
       "      <td>[b'$', b'2', b'b', b'$', b'1', b'4', b'$', b'c...</td>\n",
       "    </tr>\n",
       "  </tbody>\n",
       "</table>\n",
       "</div>"
      ],
      "text/plain": [
       "                id  username              email  \\\n",
       "0  289772903861802  jethalal  sethji@shaadi.com   \n",
       "\n",
       "                                       password_hash  \n",
       "0  [b'$', b'2', b'b', b'$', b'1', b'4', b'$', b'c...  "
      ]
     },
     "execution_count": 40,
     "metadata": {},
     "output_type": "execute_result"
    }
   ],
   "source": [
    "# Get DB example\n",
    "get_users()"
   ]
  },
  {
   "cell_type": "code",
   "execution_count": 41,
   "id": "5a3556d7",
   "metadata": {},
   "outputs": [
    {
     "data": {
      "text/html": [
       "<div>\n",
       "<style scoped>\n",
       "    .dataframe tbody tr th:only-of-type {\n",
       "        vertical-align: middle;\n",
       "    }\n",
       "\n",
       "    .dataframe tbody tr th {\n",
       "        vertical-align: top;\n",
       "    }\n",
       "\n",
       "    .dataframe thead th {\n",
       "        text-align: right;\n",
       "    }\n",
       "</style>\n",
       "<table border=\"1\" class=\"dataframe\">\n",
       "  <thead>\n",
       "    <tr style=\"text-align: right;\">\n",
       "      <th></th>\n",
       "      <th>id</th>\n",
       "      <th>username</th>\n",
       "      <th>email</th>\n",
       "      <th>password_hash</th>\n",
       "    </tr>\n",
       "  </thead>\n",
       "  <tbody>\n",
       "    <tr>\n",
       "      <th>0</th>\n",
       "      <td>289772903861802</td>\n",
       "      <td>jethalal</td>\n",
       "      <td>sethji@shaadi.com</td>\n",
       "      <td>[b'$', b'2', b'b', b'$', b'1', b'4', b'$', b'c...</td>\n",
       "    </tr>\n",
       "    <tr>\n",
       "      <th>1</th>\n",
       "      <td>5167122426168369</td>\n",
       "      <td>chungus</td>\n",
       "      <td>bingus@yahoo.co.in</td>\n",
       "      <td>[b'$', b'2', b'b', b'$', b'1', b'4', b'$', b'r...</td>\n",
       "    </tr>\n",
       "  </tbody>\n",
       "</table>\n",
       "</div>"
      ],
      "text/plain": [
       "                 id  username               email  \\\n",
       "0   289772903861802  jethalal   sethji@shaadi.com   \n",
       "1  5167122426168369   chungus  bingus@yahoo.co.in   \n",
       "\n",
       "                                       password_hash  \n",
       "0  [b'$', b'2', b'b', b'$', b'1', b'4', b'$', b'c...  \n",
       "1  [b'$', b'2', b'b', b'$', b'1', b'4', b'$', b'r...  "
      ]
     },
     "execution_count": 41,
     "metadata": {},
     "output_type": "execute_result"
    }
   ],
   "source": [
    "# Add user example\n",
    "remove_user(\"chungus\") # Ensure doesn't exist since we're asserting users are unique\n",
    "add_user(\"chungus\", \"bingus@yahoo.co.in\", \"evillarry\")\n",
    "get_users()"
   ]
  },
  {
   "cell_type": "code",
   "execution_count": 42,
   "id": "594b2c64",
   "metadata": {},
   "outputs": [
    {
     "data": {
      "text/html": [
       "<div>\n",
       "<style scoped>\n",
       "    .dataframe tbody tr th:only-of-type {\n",
       "        vertical-align: middle;\n",
       "    }\n",
       "\n",
       "    .dataframe tbody tr th {\n",
       "        vertical-align: top;\n",
       "    }\n",
       "\n",
       "    .dataframe thead th {\n",
       "        text-align: right;\n",
       "    }\n",
       "</style>\n",
       "<table border=\"1\" class=\"dataframe\">\n",
       "  <thead>\n",
       "    <tr style=\"text-align: right;\">\n",
       "      <th></th>\n",
       "      <th>id</th>\n",
       "      <th>username</th>\n",
       "      <th>email</th>\n",
       "      <th>password_hash</th>\n",
       "    </tr>\n",
       "  </thead>\n",
       "  <tbody>\n",
       "    <tr>\n",
       "      <th>0</th>\n",
       "      <td>289772903861802</td>\n",
       "      <td>jethalal</td>\n",
       "      <td>sethji@shaadi.com</td>\n",
       "      <td>[b'$', b'2', b'b', b'$', b'1', b'4', b'$', b'c...</td>\n",
       "    </tr>\n",
       "  </tbody>\n",
       "</table>\n",
       "</div>"
      ],
      "text/plain": [
       "                id  username              email  \\\n",
       "0  289772903861802  jethalal  sethji@shaadi.com   \n",
       "\n",
       "                                       password_hash  \n",
       "0  [b'$', b'2', b'b', b'$', b'1', b'4', b'$', b'c...  "
      ]
     },
     "execution_count": 42,
     "metadata": {},
     "output_type": "execute_result"
    }
   ],
   "source": [
    "# Remove user example\n",
    "remove_user(\"chungus\")\n",
    "df = get_users()\n",
    "df"
   ]
  },
  {
   "cell_type": "code",
   "execution_count": 43,
   "id": "e7d2b72b",
   "metadata": {},
   "outputs": [
    {
     "data": {
      "text/html": [
       "<div>\n",
       "<style scoped>\n",
       "    .dataframe tbody tr th:only-of-type {\n",
       "        vertical-align: middle;\n",
       "    }\n",
       "\n",
       "    .dataframe tbody tr th {\n",
       "        vertical-align: top;\n",
       "    }\n",
       "\n",
       "    .dataframe thead th {\n",
       "        text-align: right;\n",
       "    }\n",
       "</style>\n",
       "<table border=\"1\" class=\"dataframe\">\n",
       "  <thead>\n",
       "    <tr style=\"text-align: right;\">\n",
       "      <th></th>\n",
       "      <th>id</th>\n",
       "      <th>username</th>\n",
       "      <th>email</th>\n",
       "      <th>password_hash</th>\n",
       "    </tr>\n",
       "  </thead>\n",
       "  <tbody>\n",
       "    <tr>\n",
       "      <th>0</th>\n",
       "      <td>289772903861802</td>\n",
       "      <td>tapu ke papa</td>\n",
       "      <td>jijaji@sundar.con</td>\n",
       "      <td>[b'$', b'2', b'b', b'$', b'1', b'4', b'$', b'u...</td>\n",
       "    </tr>\n",
       "  </tbody>\n",
       "</table>\n",
       "</div>"
      ],
      "text/plain": [
       "                id      username              email  \\\n",
       "0  289772903861802  tapu ke papa  jijaji@sundar.con   \n",
       "\n",
       "                                       password_hash  \n",
       "0  [b'$', b'2', b'b', b'$', b'1', b'4', b'$', b'u...  "
      ]
     },
     "execution_count": 43,
     "metadata": {},
     "output_type": "execute_result"
    }
   ],
   "source": [
    "# Update User data example\n",
    "update_username(get_id(\"jethalal\"), \"tapu ke papa\")\n",
    "update_email(get_id(\"tapu ke papa\"), \"jijaji@sundar.con\")\n",
    "update_password(get_id(\"tapu ke papa\"), \"JalebiMaster\")\n",
    "df = get_users()\n",
    "\n",
    "# Undo changes\n",
    "update_username(get_id(\"tapu ke papa\"), \"jethalal\")\n",
    "update_email(get_id(\"jethalal\"), \"sethji@shaadi.com\")\n",
    "update_password(get_id(\"jethalal\"), \"natukaka123\")\n",
    "\n",
    "df"
   ]
  }
 ],
 "metadata": {
  "kernelspec": {
   "display_name": "Python 3",
   "language": "python",
   "name": "python3"
  },
  "language_info": {
   "codemirror_mode": {
    "name": "ipython",
    "version": 3
   },
   "file_extension": ".py",
   "mimetype": "text/x-python",
   "name": "python",
   "nbconvert_exporter": "python",
   "pygments_lexer": "ipython3",
   "version": "3.9.6"
  }
 },
 "nbformat": 4,
 "nbformat_minor": 5
}
