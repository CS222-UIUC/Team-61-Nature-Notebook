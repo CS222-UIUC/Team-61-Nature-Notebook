{
 "cells": [
  {
   "cell_type": "code",
   "execution_count": 626,
   "id": "887612a5-83e4-4b35-b262-9cafdeede293",
   "metadata": {},
   "outputs": [],
   "source": [
    "# Imports\n",
    "import pandas as pd\n",
    "from sqlalchemy import create_engine, text"
   ]
  },
  {
   "cell_type": "code",
   "execution_count": 627,
   "id": "9a48cddc",
   "metadata": {},
   "outputs": [],
   "source": [
    "# Create a sqlalchemy engine to input database\n",
    "def get_engine(dbname, host='localhost', port=5432, user='nihar'):\n",
    "    connection_string = f'postgresql://{user}@{host}:{port}/{dbname}'\n",
    "    engine = create_engine(connection_string)\n",
    "    return engine"
   ]
  },
  {
   "cell_type": "code",
   "execution_count": 628,
   "id": "d440e6b2",
   "metadata": {},
   "outputs": [],
   "source": [
    "# The function that runs any query; returns results for SELECT queries and commits changes for non-SELECT queries\n",
    "def execute_query(dbname, query):\n",
    "    # Establish the connection\n",
    "    engine = get_engine(dbname)\n",
    "    \n",
    "    # Create transaction\n",
    "    with engine.connect() as connection:\n",
    "        transaction = connection.begin() \n",
    "        try:\n",
    "            # If SELECT query, fetch and return the results\n",
    "            if query.strip().lower().startswith('select'):\n",
    "                result = connection.execute(text(query))\n",
    "                return result.fetchall()\n",
    "            \n",
    "            # Execute non-SELECT queries\n",
    "            else:\n",
    "                connection.execute(text(query))\n",
    "                # Commit the changes and return None\n",
    "                transaction.commit()\n",
    "                return None \n",
    "        except Exception as e: # Re-raise the exception\n",
    "            transaction.rollback()  \n",
    "            raise e "
   ]
  },
  {
   "cell_type": "code",
   "execution_count": 629,
   "id": "0f9f8af1",
   "metadata": {},
   "outputs": [],
   "source": [
    "# Returns user database\n",
    "def get_users():\n",
    "    # Query to select all users\n",
    "    query = \"SELECT * FROM users;\"\n",
    "    df = pd.DataFrame(execute_query('users', query))\n",
    "    return df"
   ]
  },
  {
   "cell_type": "code",
   "execution_count": 630,
   "id": "4256a8a0",
   "metadata": {},
   "outputs": [],
   "source": [
    "def get_id(username):\n",
    "    # SQL query to get id of user\n",
    "    query = f\"SELECT id FROM users WHERE username = '{username}';\"\n",
    "    id = execute_query('users', query)\n",
    "    if len(id) == 0: return None  # Username not found in database\n",
    "    return id[0][0] # Extract data and return"
   ]
  },
  {
   "cell_type": "code",
   "execution_count": 631,
   "id": "1625c5ab",
   "metadata": {},
   "outputs": [],
   "source": [
    "# Functions to add and remove users\n",
    "\n",
    "def add_user(username, email, password_hash, hostname = 'localhost', port = 5432, postgre_user = 'nihar'):\n",
    "    # SQL query to insert a new user\n",
    "    query = f\"INSERT INTO users (username, email, password_hash) VALUES ('{username}', '{email}', '{password_hash}');\"\n",
    "    execute_query('users', query)\n",
    "\n",
    "def remove_user(username, hostname = 'localhost', port = 5432, postgre_user = 'nihar'):\n",
    "    # SQL query to delete a user based on the username\n",
    "    id = get_id(username)\n",
    "    if id == None: return\n",
    "    query = f\"DELETE FROM users WHERE id = '{id}';\"\n",
    "    execute_query('users', query)"
   ]
  },
  {
   "cell_type": "code",
   "execution_count": 632,
   "id": "678cb41f",
   "metadata": {},
   "outputs": [],
   "source": [
    "# Update observation helper function\n",
    "def update_info(id, updated_info, category): \n",
    "    if id == None: return # If not a valid user, terminate\n",
    "    \n",
    "    query = f\"UPDATE users SET {category} = '{updated_info}' WHERE id = {id};\" # SQL query to update a user's info based on id\n",
    "    execute_query('users', query)\n",
    "\n",
    "# Update observation's data functions\n",
    "def update_username(id, new_username):\n",
    "    update_info(id, new_username, 'username')\n",
    "\n",
    "def update_email(id, new_email):\n",
    "    update_info(id, new_email, 'email')\n",
    "\n",
    "def update_password(id, new_pass):\n",
    "    update_info(id, new_pass, 'password_hash')"
   ]
  },
  {
   "cell_type": "code",
   "execution_count": 633,
   "id": "44875904",
   "metadata": {},
   "outputs": [
    {
     "name": "stdout",
     "output_type": "stream",
     "text": [
      "9120275521814384\n"
     ]
    }
   ],
   "source": [
    "# Get ID example\n",
    "print(get_id(\"jethalal\"))"
   ]
  },
  {
   "cell_type": "code",
   "execution_count": 634,
   "id": "5c44b945",
   "metadata": {},
   "outputs": [
    {
     "data": {
      "text/html": [
       "<div>\n",
       "<style scoped>\n",
       "    .dataframe tbody tr th:only-of-type {\n",
       "        vertical-align: middle;\n",
       "    }\n",
       "\n",
       "    .dataframe tbody tr th {\n",
       "        vertical-align: top;\n",
       "    }\n",
       "\n",
       "    .dataframe thead th {\n",
       "        text-align: right;\n",
       "    }\n",
       "</style>\n",
       "<table border=\"1\" class=\"dataframe\">\n",
       "  <thead>\n",
       "    <tr style=\"text-align: right;\">\n",
       "      <th></th>\n",
       "      <th>id</th>\n",
       "      <th>username</th>\n",
       "      <th>email</th>\n",
       "      <th>password_hash</th>\n",
       "    </tr>\n",
       "  </thead>\n",
       "  <tbody>\n",
       "    <tr>\n",
       "      <th>0</th>\n",
       "      <td>9120275521814384</td>\n",
       "      <td>jethalal</td>\n",
       "      <td>sethji@shaadi.com</td>\n",
       "      <td>password_hash_420</td>\n",
       "    </tr>\n",
       "  </tbody>\n",
       "</table>\n",
       "</div>"
      ],
      "text/plain": [
       "                 id  username              email      password_hash\n",
       "0  9120275521814384  jethalal  sethji@shaadi.com  password_hash_420"
      ]
     },
     "execution_count": 634,
     "metadata": {},
     "output_type": "execute_result"
    }
   ],
   "source": [
    "# Get DB example\n",
    "get_users()"
   ]
  },
  {
   "cell_type": "code",
   "execution_count": 635,
   "id": "5a3556d7",
   "metadata": {},
   "outputs": [
    {
     "data": {
      "text/html": [
       "<div>\n",
       "<style scoped>\n",
       "    .dataframe tbody tr th:only-of-type {\n",
       "        vertical-align: middle;\n",
       "    }\n",
       "\n",
       "    .dataframe tbody tr th {\n",
       "        vertical-align: top;\n",
       "    }\n",
       "\n",
       "    .dataframe thead th {\n",
       "        text-align: right;\n",
       "    }\n",
       "</style>\n",
       "<table border=\"1\" class=\"dataframe\">\n",
       "  <thead>\n",
       "    <tr style=\"text-align: right;\">\n",
       "      <th></th>\n",
       "      <th>id</th>\n",
       "      <th>username</th>\n",
       "      <th>email</th>\n",
       "      <th>password_hash</th>\n",
       "    </tr>\n",
       "  </thead>\n",
       "  <tbody>\n",
       "    <tr>\n",
       "      <th>0</th>\n",
       "      <td>9120275521814384</td>\n",
       "      <td>jethalal</td>\n",
       "      <td>sethji@shaadi.com</td>\n",
       "      <td>password_hash_420</td>\n",
       "    </tr>\n",
       "    <tr>\n",
       "      <th>1</th>\n",
       "      <td>1830010682693057</td>\n",
       "      <td>chungus</td>\n",
       "      <td>bingus@yahoo.co.in</td>\n",
       "      <td>hashed_password_222</td>\n",
       "    </tr>\n",
       "  </tbody>\n",
       "</table>\n",
       "</div>"
      ],
      "text/plain": [
       "                 id  username               email        password_hash\n",
       "0  9120275521814384  jethalal   sethji@shaadi.com    password_hash_420\n",
       "1  1830010682693057   chungus  bingus@yahoo.co.in  hashed_password_222"
      ]
     },
     "execution_count": 635,
     "metadata": {},
     "output_type": "execute_result"
    }
   ],
   "source": [
    "# Add user example\n",
    "remove_user(\"chungus\") # Ensure doesn't exist since we're asserting users are unique\n",
    "add_user(\"chungus\", \"bingus@yahoo.co.in\", \"hashed_password_222\")\n",
    "get_users()"
   ]
  },
  {
   "cell_type": "code",
   "execution_count": 636,
   "id": "594b2c64",
   "metadata": {},
   "outputs": [
    {
     "data": {
      "text/html": [
       "<div>\n",
       "<style scoped>\n",
       "    .dataframe tbody tr th:only-of-type {\n",
       "        vertical-align: middle;\n",
       "    }\n",
       "\n",
       "    .dataframe tbody tr th {\n",
       "        vertical-align: top;\n",
       "    }\n",
       "\n",
       "    .dataframe thead th {\n",
       "        text-align: right;\n",
       "    }\n",
       "</style>\n",
       "<table border=\"1\" class=\"dataframe\">\n",
       "  <thead>\n",
       "    <tr style=\"text-align: right;\">\n",
       "      <th></th>\n",
       "      <th>id</th>\n",
       "      <th>username</th>\n",
       "      <th>email</th>\n",
       "      <th>password_hash</th>\n",
       "    </tr>\n",
       "  </thead>\n",
       "  <tbody>\n",
       "    <tr>\n",
       "      <th>0</th>\n",
       "      <td>9120275521814384</td>\n",
       "      <td>jethalal</td>\n",
       "      <td>sethji@shaadi.com</td>\n",
       "      <td>password_hash_420</td>\n",
       "    </tr>\n",
       "  </tbody>\n",
       "</table>\n",
       "</div>"
      ],
      "text/plain": [
       "                 id  username              email      password_hash\n",
       "0  9120275521814384  jethalal  sethji@shaadi.com  password_hash_420"
      ]
     },
     "execution_count": 636,
     "metadata": {},
     "output_type": "execute_result"
    }
   ],
   "source": [
    "# Remove user example\n",
    "remove_user(\"chungus\")\n",
    "df = get_users()\n",
    "df"
   ]
  },
  {
   "cell_type": "code",
   "execution_count": 637,
   "id": "e7d2b72b",
   "metadata": {},
   "outputs": [
    {
     "data": {
      "text/html": [
       "<div>\n",
       "<style scoped>\n",
       "    .dataframe tbody tr th:only-of-type {\n",
       "        vertical-align: middle;\n",
       "    }\n",
       "\n",
       "    .dataframe tbody tr th {\n",
       "        vertical-align: top;\n",
       "    }\n",
       "\n",
       "    .dataframe thead th {\n",
       "        text-align: right;\n",
       "    }\n",
       "</style>\n",
       "<table border=\"1\" class=\"dataframe\">\n",
       "  <thead>\n",
       "    <tr style=\"text-align: right;\">\n",
       "      <th></th>\n",
       "      <th>id</th>\n",
       "      <th>username</th>\n",
       "      <th>email</th>\n",
       "      <th>password_hash</th>\n",
       "    </tr>\n",
       "  </thead>\n",
       "  <tbody>\n",
       "    <tr>\n",
       "      <th>0</th>\n",
       "      <td>9120275521814384</td>\n",
       "      <td>tapu ke papa</td>\n",
       "      <td>jijaji@sundar.con</td>\n",
       "      <td>JalebiMaster</td>\n",
       "    </tr>\n",
       "  </tbody>\n",
       "</table>\n",
       "</div>"
      ],
      "text/plain": [
       "                 id      username              email password_hash\n",
       "0  9120275521814384  tapu ke papa  jijaji@sundar.con  JalebiMaster"
      ]
     },
     "execution_count": 637,
     "metadata": {},
     "output_type": "execute_result"
    }
   ],
   "source": [
    "# Update User data example\n",
    "update_username(get_id(\"jethalal\"), \"tapu ke papa\")\n",
    "update_email(get_id(\"tapu ke papa\"), \"jijaji@sundar.con\")\n",
    "update_password(get_id(\"tapu ke papa\"), \"JalebiMaster\")\n",
    "df = get_users()\n",
    "\n",
    "# Undo changes\n",
    "update_username(get_id(\"tapu ke papa\"), \"jethalal\")\n",
    "update_email(get_id(\"jethalal\"), \"sethji@shaadi.com\")\n",
    "update_password(get_id(\"jethalal\"), \"password_hash_420\")\n",
    "\n",
    "df"
   ]
  }
 ],
 "metadata": {
  "kernelspec": {
   "display_name": "Python 3",
   "language": "python",
   "name": "python3"
  },
  "language_info": {
   "codemirror_mode": {
    "name": "ipython",
    "version": 3
   },
   "file_extension": ".py",
   "mimetype": "text/x-python",
   "name": "python",
   "nbconvert_exporter": "python",
   "pygments_lexer": "ipython3",
   "version": "3.9.6"
  }
 },
 "nbformat": 4,
 "nbformat_minor": 5
}
